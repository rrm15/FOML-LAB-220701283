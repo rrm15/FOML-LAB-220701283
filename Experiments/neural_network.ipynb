{
 "cells": [
  {
   "cell_type": "code",
   "execution_count": 2,
   "metadata": {
    "colab": {
     "base_uri": "https://localhost:8080/"
    },
    "id": "xqGxWE12xKK7",
    "outputId": "349521f8-ac77-46d3-b8bc-4a6563cc9611"
   },
   "outputs": [
    {
     "name": "stdout",
     "output_type": "stream",
     "text": [
      "Prediction: [0.98977357]\n"
     ]
    }
   ],
   "source": [
    "import random\n",
    "import numpy as np\n",
    "\n",
    "class NeuralNet(object):\n",
    "    def __init__(self):\n",
    "        # Generate random numbers\n",
    "        random.seed(1)\n",
    "        # Assign random weights to a 3 x 1 matrix\n",
    "        self.synaptic_weights = 2 * np.random.random((3, 1)) - 1\n",
    "\n",
    "    # The Sigmoid function\n",
    "    def __sigmoid(self, x):\n",
    "        return 1 / (1 + np.exp(-x))\n",
    "\n",
    "    # The derivative of the Sigmoid function.\n",
    "    # This is the gradient of the Sigmoid curve.\n",
    "    def __sigmoid_derivative(self, x):\n",
    "        return x * (1 - x)\n",
    "\n",
    "    # Train the neural network and adjust the weights each time.\n",
    "    def train(self, inputs, outputs, training_iterations):\n",
    "        for iteration in range(training_iterations):\n",
    "            # Pass the training set through the network.\n",
    "            output = self.learn(inputs)\n",
    "            # Calculate the error\n",
    "            error = outputs - output\n",
    "            # Adjust the weights by a factor\n",
    "            factor = np.dot(inputs.T, error * self.__sigmoid_derivative(output))\n",
    "            self.synaptic_weights += factor\n",
    "\n",
    "    # The neural network thinks.\n",
    "    def learn(self, inputs):\n",
    "        return self.__sigmoid(np.dot(inputs, self.synaptic_weights))\n",
    "\n",
    "if __name__ == \"__main__\":\n",
    "    # Initialize\n",
    "    neural_network = NeuralNet()\n",
    "\n",
    "    # The training set.\n",
    "    inputs = np.array([[0, 1, 1], [1, 0, 0], [1, 0, 1]])\n",
    "    outputs = np.array([[1, 0, 1]]).T\n",
    "\n",
    "    # Train the neural network\n",
    "    neural_network.train(inputs, outputs, 10000)\n",
    "\n",
    "    # Test the neural network with a test example.\n",
    "    print(\"Prediction: \" + str(neural_network.learn(np.array([1, 0, 1]))))\n"
   ]
  },
  {
   "cell_type": "code",
   "execution_count": null,
   "metadata": {},
   "outputs": [],
   "source": []
  }
 ],
 "metadata": {
  "colab": {
   "provenance": []
  },
  "kernelspec": {
   "display_name": "Python 3 (ipykernel)",
   "language": "python",
   "name": "python3"
  },
  "language_info": {
   "codemirror_mode": {
    "name": "ipython",
    "version": 3
   },
   "file_extension": ".py",
   "mimetype": "text/x-python",
   "name": "python",
   "nbconvert_exporter": "python",
   "pygments_lexer": "ipython3",
   "version": "3.11.4"
  }
 },
 "nbformat": 4,
 "nbformat_minor": 4
}
